{
 "cells": [
  {
   "cell_type": "code",
   "execution_count": 1,
   "metadata": {},
   "outputs": [
    {
     "name": "stdout",
     "output_type": "stream",
     "text": [
      "Usman\n"
     ]
    }
   ],
   "source": [
    "name = \"Usman\"\n",
    "print(name)"
   ]
  },
  {
   "cell_type": "code",
   "execution_count": 2,
   "metadata": {},
   "outputs": [
    {
     "name": "stdout",
     "output_type": "stream",
     "text": [
      "Thanks for your input!\n"
     ]
    }
   ],
   "source": [
    "thanx = \"Thanks for your input!\" \n",
    "print(thanx) "
   ]
  },
  {
   "cell_type": "code",
   "execution_count": 3,
   "metadata": {},
   "outputs": [
    {
     "name": "stdout",
     "output_type": "stream",
     "text": [
      "30\n"
     ]
    }
   ],
   "source": [
    "original_num = 23 \n",
    "num_to_be_added = 7 \n",
    "new_num = original_num + num_to_be_added \n",
    "print(new_num)"
   ]
  },
  {
   "cell_type": "code",
   "execution_count": 4,
   "metadata": {},
   "outputs": [
    {
     "name": "stdout",
     "output_type": "stream",
     "text": [
      "100\n"
     ]
    }
   ],
   "source": [
    "original_num = 90 \n",
    "original_num += 10 \n",
    "print(original_num)"
   ]
  },
  {
   "cell_type": "code",
   "execution_count": 1,
   "metadata": {},
   "outputs": [
    {
     "name": "stdout",
     "output_type": "stream",
     "text": [
      "4\n"
     ]
    }
   ],
   "source": [
    "print(2+2)"
   ]
  },
  {
   "cell_type": "code",
   "execution_count": 6,
   "metadata": {},
   "outputs": [
    {
     "name": "stdout",
     "output_type": "stream",
     "text": [
      "10\n"
     ]
    }
   ],
   "source": [
    "loss = 24-14\n",
    "print(loss)"
   ]
  },
  {
   "cell_type": "code",
   "execution_count": 7,
   "metadata": {},
   "outputs": [
    {
     "name": "stdout",
     "output_type": "stream",
     "text": [
      "36\n"
     ]
    }
   ],
   "source": [
    "dozen = 12 * 3\n",
    "print(dozen)"
   ]
  },
  {
   "cell_type": "code",
   "execution_count": 8,
   "metadata": {},
   "outputs": [
    {
     "name": "stdout",
     "output_type": "stream",
     "text": [
      "3.0\n"
     ]
    }
   ],
   "source": [
    "divide = 12/4\n",
    "print(divide)"
   ]
  },
  {
   "cell_type": "code",
   "execution_count": 9,
   "metadata": {},
   "outputs": [
    {
     "name": "stdout",
     "output_type": "stream",
     "text": [
      "36\n"
     ]
    }
   ],
   "source": [
    "print(3*12)"
   ]
  },
  {
   "cell_type": "code",
   "execution_count": 10,
   "metadata": {},
   "outputs": [
    {
     "name": "stdout",
     "output_type": "stream",
     "text": [
      "10\n"
     ]
    }
   ],
   "source": [
    "age = 12 \n",
    "age -= 2 \n",
    "print(age)"
   ]
  },
  {
   "cell_type": "code",
   "execution_count": 11,
   "metadata": {},
   "outputs": [
    {
     "name": "stdout",
     "output_type": "stream",
     "text": [
      "48\n"
     ]
    }
   ],
   "source": [
    "age = 12 \n",
    "age *= 4\n",
    "print(age)"
   ]
  },
  {
   "cell_type": "code",
   "execution_count": 12,
   "metadata": {},
   "outputs": [
    {
     "data": {
      "text/plain": [
       "48"
      ]
     },
     "execution_count": 12,
     "metadata": {},
     "output_type": "execute_result"
    }
   ],
   "source": [
    "age"
   ]
  },
  {
   "cell_type": "code",
   "execution_count": 13,
   "metadata": {},
   "outputs": [
    {
     "name": "stdout",
     "output_type": "stream",
     "text": [
      "15\n"
     ]
    }
   ],
   "source": [
    "age = 12 \n",
    "amount_to_increment = 3 \n",
    "age += amount_to_increment\n",
    "print(age)"
   ]
  },
  {
   "cell_type": "code",
   "execution_count": 14,
   "metadata": {},
   "outputs": [
    {
     "name": "stdout",
     "output_type": "stream",
     "text": [
      "13\n"
     ]
    }
   ],
   "source": [
    "total_cost = 1 + 3 * 4 \n",
    "print(total_cost)\n",
    "# in this code phyton does first divide then plus "
   ]
  },
  {
   "cell_type": "code",
   "execution_count": 15,
   "metadata": {},
   "outputs": [
    {
     "name": "stdout",
     "output_type": "stream",
     "text": [
      "16\n"
     ]
    }
   ],
   "source": [
    "total_cost = (1 + 3) * 4\n",
    "print(total_cost)\n",
    "# if you want to add first, use bracket "
   ]
  },
  {
   "cell_type": "code",
   "execution_count": 19,
   "metadata": {},
   "outputs": [
    {
     "name": "stdout",
     "output_type": "stream",
     "text": [
      "Input janwr name dog\n",
      "This is not cat \n"
     ]
    }
   ],
   "source": [
    "billi = input(\"Input janwr name \")\n",
    "if billi == \"cat\": \n",
    "    print(\"Yep, it's cat.\")\n",
    "else: \n",
    "    print(\"This is not cat \")\n",
    "# you typ word \"species\" that mean khas cheez braber he"
   ]
  },
  {
   "cell_type": "code",
   "execution_count": 23,
   "metadata": {},
   "outputs": [
    {
     "name": "stdout",
     "output_type": "stream",
     "text": [
      "So far so good.\n",
      "Congratulations.\n",
      "All done\n"
     ]
    }
   ],
   "source": [
    "number_of_husbands = 1\n",
    "if number_of_husbands == 1: \n",
    "    print(\"So far so good.\") \n",
    "    print(\"Congratulations.\") \n",
    "    print(\"All done\")"
   ]
  },
  {
   "cell_type": "code",
   "execution_count": 77,
   "metadata": {},
   "outputs": [
    {
     "name": "stdout",
     "output_type": "stream",
     "text": [
      "Tell me No. of Husbands 3\n",
      "Awara orat\n"
     ]
    }
   ],
   "source": [
    "number_of_husbands = int(input(\"Tell me No. of Husbands \"))\n",
    "if number_of_husbands == 1: \n",
    "    print(\"So far so good.\")\n",
    "if number_of_husbands == 2:\n",
    "    print(\"Congratulations.\")\n",
    "if number_of_husbands == 3:\n",
    "    print (\"Awara orat\")\n",
    "else:\n",
    "    print(\"Dawat-e-Aam \")"
   ]
  },
  {
   "cell_type": "code",
   "execution_count": 78,
   "metadata": {},
   "outputs": [
    {
     "name": "stdout",
     "output_type": "stream",
     "text": [
      "Input your Lucky draw No 332\n",
      "Try Again \n"
     ]
    }
   ],
   "source": [
    "number = int(input(\"Input your Lucky draw No \"))\n",
    "if number != 334 :\n",
    "    print(\"Try Again \")\n",
    "else:\n",
    "    print(\"Congratulations\" )\n",
    "# Another comparison operator, !=, is the opposite of ==. It means is not equal to."
   ]
  },
  {
   "cell_type": "code",
   "execution_count": 87,
   "metadata": {},
   "outputs": [
    {
     "name": "stdout",
     "output_type": "stream",
     "text": [
      "Ticket Number 1234\n",
      "Congratulation\n"
     ]
    }
   ],
   "source": [
    "tick = int(input(\"Ticket Number \"))\n",
    "if tick == 1234:\n",
    "    print(\"Congratulation\")\n",
    "else:\n",
    "    print(\"Try Again\")"
   ]
  },
  {
   "cell_type": "code",
   "execution_count": 91,
   "metadata": {},
   "outputs": [
    {
     "name": "stdout",
     "output_type": "stream",
     "text": [
      "Input No. 3\n"
     ]
    }
   ],
   "source": [
    "x = int(input(\"Input No. \"))\n",
    "if x>8:\n",
    "    print(\"yes x se bara he\")"
   ]
  },
  {
   "cell_type": "code",
   "execution_count": 96,
   "metadata": {},
   "outputs": [
    {
     "name": "stdout",
     "output_type": "stream",
     "text": [
      "Input No. 100\n",
      "No ye number x se bara he\n"
     ]
    }
   ],
   "source": [
    "x = int(input(\"Input No. \"))\n",
    "if x<100:\n",
    "    print(\"yes ye number x se kum he \")\n",
    "else:\n",
    "    print(\"No ye number x se bara he\")"
   ]
  },
  {
   "cell_type": "code",
   "execution_count": 98,
   "metadata": {},
   "outputs": [
    {
     "name": "stdout",
     "output_type": "stream",
     "text": [
      "Enter weight 23\n",
      "Enter time 45\n",
      "Recurti him immediatly\n"
     ]
    }
   ],
   "source": [
    "weight = int(input(\"Enter weight \"))\n",
    "time = int(input(\"Enter time \"))\n",
    "if weight>300 or time <59:\n",
    "    print (\"Recurti him immediatly\")\n",
    "else:\n",
    "    print (\"Dhakka Do\")\n",
    "# one condititon is true in both fiqure that called \"OR\""
   ]
  },
  {
   "cell_type": "code",
   "execution_count": 99,
   "metadata": {},
   "outputs": [
    {
     "name": "stdout",
     "output_type": "stream",
     "text": [
      "Enter weight 23\n",
      "Enter time 56\n",
      "Dhakka Do\n"
     ]
    }
   ],
   "source": [
    "weight = int(input(\"Enter weight \"))\n",
    "time = int(input(\"Enter time \"))\n",
    "if weight>300 and time <59:\n",
    "    print (\"Recurti him immediatly\")\n",
    "else:\n",
    "    print (\"Dhakka Do\")\n",
    "# if any one condititon is false in both fiqure called \"AND\""
   ]
  },
  {
   "cell_type": "code",
   "execution_count": 106,
   "metadata": {},
   "outputs": [
    {
     "name": "stdout",
     "output_type": "stream",
     "text": [
      "Age 56\n"
     ]
    }
   ],
   "source": [
    "age = int(input(\"Age \"))\n",
    "res = \"Pakistan\"\n",
    "if age > 65 or age < 21 and res == \"Pakistan\": \n",
    "    print(\"Hard Worker \")"
   ]
  },
  {
   "cell_type": "code",
   "execution_count": 90,
   "metadata": {},
   "outputs": [
    {
     "name": "stdout",
     "output_type": "stream",
     "text": [
      "Input No. 9\n",
      "yes\n"
     ]
    }
   ],
   "source": [
    "x = int(input(\"Input No. \"))\n",
    "if x>8:\n",
    "    print(\"yes\")"
   ]
  },
  {
   "cell_type": "code",
   "execution_count": 90,
   "metadata": {},
   "outputs": [
    {
     "name": "stdout",
     "output_type": "stream",
     "text": [
      "Input No. 9\n",
      "yes\n"
     ]
    }
   ],
   "source": [
    "x = int(input(\"Input No. \"))\n",
    "if x>8:\n",
    "    print(\"yes\")"
   ]
  },
  {
   "cell_type": "code",
   "execution_count": 1,
   "metadata": {},
   "outputs": [
    {
     "name": "stdout",
     "output_type": "stream",
     "text": [
      "Welcome to Karachi\n"
     ]
    }
   ],
   "source": [
    "city0 = \"Islamabad\"\n",
    "city1 = \"Karachi\"\n",
    "city2 = \"Hyderabad\"\n",
    "city3 = \"Quetta\"\n",
    "city4 = \"Airport\"\n",
    "print(\"Welcome to\", city1)"
   ]
  },
  {
   "cell_type": "code",
   "execution_count": 33,
   "metadata": {},
   "outputs": [],
   "source": [
    "# if You want to change it to \"Quetta\" This is the code: cities[2] = \"Houston\n",
    "city3 = \"Behria\""
   ]
  },
  {
   "cell_type": "code",
   "execution_count": 34,
   "metadata": {},
   "outputs": [
    {
     "data": {
      "text/plain": [
       "'Behria'"
      ]
     },
     "execution_count": 34,
     "metadata": {},
     "output_type": "execute_result"
    }
   ],
   "source": [
    "city3"
   ]
  },
  {
   "cell_type": "code",
   "execution_count": 69,
   "metadata": {},
   "outputs": [
    {
     "ename": "IndexError",
     "evalue": "list assignment index out of range",
     "output_type": "error",
     "traceback": [
      "\u001b[1;31m---------------------------------------------------------------------------\u001b[0m",
      "\u001b[1;31mIndexError\u001b[0m                                Traceback (most recent call last)",
      "\u001b[1;32m<ipython-input-69-b865b5c9be73>\u001b[0m in \u001b[0;36m<module>\u001b[1;34m\u001b[0m\n\u001b[1;32m----> 1\u001b[1;33m \u001b[0mcities\u001b[0m\u001b[1;33m[\u001b[0m\u001b[1;36m8\u001b[0m\u001b[1;33m]\u001b[0m \u001b[1;33m=\u001b[0m \u001b[1;34m\"Shumail View\"\u001b[0m\u001b[1;33m\u001b[0m\u001b[1;33m\u001b[0m\u001b[0m\n\u001b[0m",
      "\u001b[1;31mIndexError\u001b[0m: list assignment index out of range"
     ]
    }
   ],
   "source": [
    "cities[8] = \"Shumail View\""
   ]
  },
  {
   "cell_type": "code",
   "execution_count": 70,
   "metadata": {},
   "outputs": [
    {
     "name": "stdout",
     "output_type": "stream",
     "text": [
      "['Larkana', 'Nawabshah', 'Hyderabad', 'Karachi', 'Pishawar', 'Chaman', 'Korea', 'xyz']\n"
     ]
    }
   ],
   "source": [
    "print(cities)"
   ]
  },
  {
   "cell_type": "code",
   "execution_count": 33,
   "metadata": {},
   "outputs": [
    {
     "name": "stdout",
     "output_type": "stream",
     "text": [
      "Welcome to Korea\n"
     ]
    }
   ],
   "source": [
    "cities = [\"Larkana\", \"Nawabshah\", \"Hyderabad\", \"Karachi\", \"Pishawar\", \"Chaman\", 'Korea', \"xyz\"]\n",
    "print(\"Welcome to \" + cities [6])"
   ]
  },
  {
   "cell_type": "code",
   "execution_count": 72,
   "metadata": {},
   "outputs": [],
   "source": [
    "# ADDING OR CHANGING ELEMENTS IN LIST \n",
    "# append for only 1 item add"
   ]
  },
  {
   "cell_type": "code",
   "execution_count": 30,
   "metadata": {},
   "outputs": [
    {
     "ename": "AttributeError",
     "evalue": "'tuple' object has no attribute 'append'",
     "output_type": "error",
     "traceback": [
      "\u001b[1;31m---------------------------------------------------------------------------\u001b[0m",
      "\u001b[1;31mAttributeError\u001b[0m                            Traceback (most recent call last)",
      "\u001b[1;32m<ipython-input-30-2f63ab61eaa4>\u001b[0m in \u001b[0;36m<module>\u001b[1;34m\u001b[0m\n\u001b[1;32m----> 1\u001b[1;33m \u001b[0mcities\u001b[0m\u001b[1;33m.\u001b[0m\u001b[0mappend\u001b[0m\u001b[1;33m(\u001b[0m\u001b[1;34m\"Scheme-33\"\u001b[0m\u001b[1;33m)\u001b[0m\u001b[1;33m\u001b[0m\u001b[1;33m\u001b[0m\u001b[0m\n\u001b[0m\u001b[0;32m      2\u001b[0m \u001b[0mprint\u001b[0m\u001b[1;33m(\u001b[0m\u001b[0mcities\u001b[0m\u001b[1;33m)\u001b[0m\u001b[1;33m\u001b[0m\u001b[1;33m\u001b[0m\u001b[0m\n",
      "\u001b[1;31mAttributeError\u001b[0m: 'tuple' object has no attribute 'append'"
     ]
    }
   ],
   "source": [
    "cities.append(\"Scheme-33\")\n",
    "print(cities)"
   ]
  },
  {
   "cell_type": "code",
   "execution_count": 34,
   "metadata": {},
   "outputs": [],
   "source": [
    "cities = cities +[\"New Yark\", \"America\"]"
   ]
  },
  {
   "cell_type": "code",
   "execution_count": 31,
   "metadata": {},
   "outputs": [
    {
     "name": "stdout",
     "output_type": "stream",
     "text": [
      "('Karachi', 'Larkana')\n"
     ]
    }
   ],
   "source": [
    "print (cities)"
   ]
  },
  {
   "cell_type": "code",
   "execution_count": 79,
   "metadata": {},
   "outputs": [],
   "source": [
    " # if you want to insert \"New York\" at the beginning of the list, I write\n",
    "cities.insert(3, \"Shumail View\")"
   ]
  },
  {
   "cell_type": "code",
   "execution_count": 80,
   "metadata": {},
   "outputs": [
    {
     "name": "stdout",
     "output_type": "stream",
     "text": [
      "Korea\n"
     ]
    }
   ],
   "source": [
    "print(cities[8])"
   ]
  },
  {
   "cell_type": "code",
   "execution_count": 29,
   "metadata": {},
   "outputs": [
    {
     "name": "stdout",
     "output_type": "stream",
     "text": [
      "('Karachi', 'Larkana')\n"
     ]
    }
   ],
   "source": [
    "copy_list = cities[0:5]\n",
    "print(copy_list)"
   ]
  },
  {
   "cell_type": "code",
   "execution_count": 35,
   "metadata": {},
   "outputs": [
    {
     "name": "stdout",
     "output_type": "stream",
     "text": [
      "['Larkana', 'Nawabshah', 'Hyderabad', 'Karachi']\n"
     ]
    }
   ],
   "source": [
    "copy_list = cities[:4]\n",
    "print(copy_list)"
   ]
  },
  {
   "cell_type": "code",
   "execution_count": 57,
   "metadata": {},
   "outputs": [],
   "source": [
    "# DELETE karne ke lea\n",
    "del city0\n",
    "# if you del an element whole value are remain same but variable city0 are deleted "
   ]
  },
  {
   "cell_type": "code",
   "execution_count": 82,
   "metadata": {},
   "outputs": [],
   "source": [
    "del cities[7:8]"
   ]
  },
  {
   "cell_type": "code",
   "execution_count": 98,
   "metadata": {},
   "outputs": [
    {
     "name": "stdout",
     "output_type": "stream",
     "text": [
      "['Larkana', 'Nawabshah', 'Hyderabad', 'Shumail View', 'Pishawar', 'Korea', 'Scheme-33', 'New Yark', 'America']\n"
     ]
    }
   ],
   "source": [
    "del cities[4]\n",
    "print(cities)"
   ]
  },
  {
   "cell_type": "code",
   "execution_count": 85,
   "metadata": {},
   "outputs": [
    {
     "name": "stdout",
     "output_type": "stream",
     "text": [
      "['Larkana', 'Nawabshah', 'Hyderabad', 'Karachi', 'Pishawar', 'Chaman', 'Korea', 'New Yark', 'America', 'xyz']\n"
     ]
    }
   ],
   "source": [
    "cities.append (\"xyz\")\n",
    "print(cities)"
   ]
  },
  {
   "cell_type": "code",
   "execution_count": 86,
   "metadata": {},
   "outputs": [
    {
     "name": "stdout",
     "output_type": "stream",
     "text": [
      "['Larkana', 'Nawabshah', 'Hyderabad', 'Karachi', 'Pishawar', 'Chaman', 'Korea', 'New Yark', 'America']\n"
     ]
    }
   ],
   "source": [
    "cities.remove(\"xyz\")\n",
    "print(cities)"
   ]
  },
  {
   "cell_type": "code",
   "execution_count": 119,
   "metadata": {},
   "outputs": [
    {
     "name": "stdout",
     "output_type": "stream",
     "text": [
      "Enter your city: Karachi\n",
      "It's one of the cleanest cities\n"
     ]
    }
   ],
   "source": [
    "city_to_check = input(\"Enter your city: \") \n",
    "city_to_check = city_to_check.lower() \n",
    "cleanest_cities = [\"karachi\", \"lahore\", \"china\", \"washinton\" , \"honolulu\"] \n",
    "for a_clean_city in cleanest_cities: \n",
    "    if city_to_check == a_clean_city: \n",
    "        print(\"It's one of the cleanest cities\") "
   ]
  },
  {
   "cell_type": "code",
   "execution_count": 99,
   "metadata": {},
   "outputs": [
    {
     "name": "stdout",
     "output_type": "stream",
     "text": [
      "Yes Ye mojod he \n"
     ]
    }
   ],
   "source": [
    "for abc in cities:\n",
    "    if found == \"Karachi\":\n",
    "        print(\"Yes Ye mojod he \") \n",
    "        break\n",
    "    else:\n",
    "        print(\"Not Found \")\n",
    "        break"
   ]
  },
  {
   "cell_type": "code",
   "execution_count": 111,
   "metadata": {},
   "outputs": [
    {
     "name": "stdout",
     "output_type": "stream",
     "text": [
      "['Muhammad  Honest']\n",
      "['Muhammad  Honest', 'Usman  Honest']\n",
      "['Muhammad  Honest', 'Usman  Honest', 'Saeed  Honest']\n",
      "['Muhammad  Honest', 'Usman  Honest', 'Saeed  Honest', 'Gizmo  Honest']\n",
      "['Muhammad  Honest', 'Usman  Honest', 'Saeed  Honest', 'Gizmo  Honest', 'Pyara  Honest']\n"
     ]
    }
   ],
   "source": [
    "first_names = [\"Muhammad \", \"Usman \", \"Saeed \", \"Gizmo \", \"Pyara \"] \n",
    "last_names = [\"Honest\", \"Osu\", \"Us Saeed\", \"Boy\"] \n",
    "full_names = [] \n",
    "for a_first_name in first_names: \n",
    "    for a_last_name in last_names: \n",
    "        full_names.append(a_first_name + \" \" + a_last_name) \n",
    "        print(full_names)\n",
    "        break"
   ]
  },
  {
   "cell_type": "code",
   "execution_count": 124,
   "metadata": {},
   "outputs": [
    {
     "name": "stdout",
     "output_type": "stream",
     "text": [
      "{'Country': 'Pakistan', 'Provinc': 'Sindh', 'City': 'Karachi', 'District': 'East', 'Taluka': 'Gulzar e Hijri '}\n"
     ]
    }
   ],
   "source": [
    "east = {\n",
    "    \"Country\":\"Pakistan\",\n",
    "    \"Provinc\":\"Sindh\",\n",
    "    \"City\":\"Karachi\", \n",
    "    \"District\":\"East\",\n",
    "    \"Taluka\":\"Gulzar e Hijri \"}\n",
    "print(east)"
   ]
  },
  {
   "cell_type": "code",
   "execution_count": 132,
   "metadata": {},
   "outputs": [
    {
     "name": "stdout",
     "output_type": "stream",
     "text": [
      "Country\n",
      "Provinc\n",
      "City\n",
      "District\n",
      "Taluka\n"
     ]
    }
   ],
   "source": [
    "for abc in east.keys():\n",
    "    print(abc)"
   ]
  },
  {
   "cell_type": "code",
   "execution_count": 131,
   "metadata": {},
   "outputs": [
    {
     "name": "stdout",
     "output_type": "stream",
     "text": [
      "Pakistan\n",
      "Sindh\n",
      "Karachi\n",
      "East\n",
      "Gulzar e Hijri \n"
     ]
    }
   ],
   "source": [
    "for abc in east.values():\n",
    "    print(abc)"
   ]
  },
  {
   "cell_type": "code",
   "execution_count": 134,
   "metadata": {},
   "outputs": [
    {
     "name": "stdout",
     "output_type": "stream",
     "text": [
      "The Citizenship Country Pakistan\n",
      "The Citizenship Provinc Sindh\n",
      "The Citizenship City Karachi\n",
      "The Citizenship District East\n",
      "The Citizenship Taluka Gulzar e Hijri \n"
     ]
    }
   ],
   "source": [
    "for abc, xyz in east.items():\n",
    "    print(\"The Citizenship\" + \" \" + abc + \" \" + xyz)"
   ]
  },
  {
   "cell_type": "code",
   "execution_count": 136,
   "metadata": {},
   "outputs": [
    {
     "data": {
      "text/plain": [
       "dict_items([('Country', 'Pakistan'), ('Provinc', 'Sindh'), ('City', 'Karachi'), ('District', 'East'), ('Taluka', 'Gulzar e Hijri ')])"
      ]
     },
     "execution_count": 136,
     "metadata": {},
     "output_type": "execute_result"
    }
   ],
   "source": [
    "east.items()"
   ]
  },
  {
   "cell_type": "code",
   "execution_count": 141,
   "metadata": {},
   "outputs": [
    {
     "data": {
      "text/plain": [
       "dict_values(['Pakistan', 'Sindh', 'Karachi', 'East', 'Gulzar e Hijri '])"
      ]
     },
     "execution_count": 141,
     "metadata": {},
     "output_type": "execute_result"
    }
   ],
   "source": [
    "east.values()"
   ]
  },
  {
   "cell_type": "code",
   "execution_count": 200,
   "metadata": {},
   "outputs": [
    {
     "name": "stdout",
     "output_type": "stream",
     "text": [
      "[{'cit': 1, 'Country': 'Pakistan', 'Asia': 'Pak'}, {'cit': 2, 'Provinc': 'Sindh', 'Village': 'Larkano'}, {'cit': 3, 'City': 'Karachi', 'Area': 'Scheme-33'}, {'District': 'East'}, {'Taluka': 'Gulzar e Hijri ', 'discounts': ['standard', 'volume', 'loyalty']}]\n"
     ]
    }
   ],
   "source": [
    "# lets make list of dictionries like taht\n",
    "citizenship = [\n",
    "    {\n",
    "        \"cit\" : 1,\n",
    "        \"Country\":\"Pakistan\",\n",
    "        \"Asia\" : \"Pak\",\n",
    "    },\n",
    "    {\n",
    "        \"cit\" : 2,\n",
    "        \"Provinc\":\"Sindh\",\n",
    "        \"Village\"  : \"Larkano\",\n",
    "    },\n",
    "    {\n",
    "        \"cit\" : 3,\n",
    "        \"City\":\"Karachi\",\n",
    "        \"Area\" :  \"Scheme-33\",\n",
    "    }, \n",
    "    {\n",
    "        \"District\":\"East\"\n",
    "    },\n",
    "    {\n",
    "        \"Taluka\":\"Gulzar e Hijri \",\n",
    "        \"discounts\": [\"standard\", \"volume\", \"loyalty\"], \n",
    "    }]\n",
    "print(citizenship)\n"
   ]
  },
  {
   "cell_type": "code",
   "execution_count": 204,
   "metadata": {
    "scrolled": true
   },
   "outputs": [
    {
     "data": {
      "text/plain": [
       "'Pakistan'"
      ]
     },
     "execution_count": 204,
     "metadata": {},
     "output_type": "execute_result"
    }
   ],
   "source": [
    "east [\"Country\"]"
   ]
  },
  {
   "cell_type": "code",
   "execution_count": 187,
   "metadata": {},
   "outputs": [
    {
     "data": {
      "text/plain": [
       "{'cit': 3, 'City': 'Karachi', 'Area': 'Scheme-33'}"
      ]
     },
     "execution_count": 187,
     "metadata": {},
     "output_type": "execute_result"
    }
   ],
   "source": [
    "citizenship [2]"
   ]
  },
  {
   "cell_type": "code",
   "execution_count": 198,
   "metadata": {},
   "outputs": [
    {
     "data": {
      "text/plain": [
       "5"
      ]
     },
     "execution_count": 198,
     "metadata": {},
     "output_type": "execute_result"
    }
   ],
   "source": [
    "len(citizenship)"
   ]
  },
  {
   "cell_type": "code",
   "execution_count": null,
   "metadata": {},
   "outputs": [],
   "source": [
    "if \"Primium_Discount \" in customer_29876[\"discounts\"]: \n",
    "    discount_amount = .30 \n",
    "    elif \"Golden_Discount\" in customer_29876[\"discounts\"]: \n",
    "        discount_amount = .15 \n",
    "    elif \"Silver_Discount\" in customer_29876[\"discounts\"]: \n",
    "        discount_amount = .10\n",
    "    elif \"Standard_Dis\" in customer_29876[\"discounts\"]: \n",
    "        discount_amount = .05 "
   ]
  },
  {
   "cell_type": "code",
   "execution_count": 228,
   "metadata": {},
   "outputs": [
    {
     "name": "stdout",
     "output_type": "stream",
     "text": [
      "{0: {'first name': 'John', 'last name': 'Ogden', 'address': '301 Arbor Rd.'}, 1: {'first name': 'Ann', 'last name': 'Sattermyer', 'address': 'PO Box 1145'}, 2: {'first name': 'Jill', 'last name': 'Somers', 'address': '3 Main St.'}}\n"
     ]
    }
   ],
   "source": [
    "customers = { \n",
    "    0: { \n",
    "        \"first name\":\"John\", \n",
    "        \"last name\": \"Ogden\", \n",
    "        \"address\": \"301 Arbor Rd.\", \n",
    "        }, \n",
    "    1: { \n",
    "        \"first name\":\"Ann\", \n",
    "        \"last name\": \"Sattermyer\", \n",
    "        \"address\": \"PO Box 1145\", \n",
    "        }, \n",
    "    2: { \n",
    "        \"first name\":\"Jill\", \n",
    "        \"last name\": \"Somers\", \n",
    "        \"address\" :\"3 Main St.\",\n",
    "        }}\n",
    "print(customers)"
   ]
  },
  {
   "cell_type": "code",
   "execution_count": 230,
   "metadata": {},
   "outputs": [
    {
     "name": "stdout",
     "output_type": "stream",
     "text": [
      "Somers\n"
     ]
    }
   ],
   "source": [
    "print(customers[2][\"last name\"])"
   ]
  },
  {
   "cell_type": "code",
   "execution_count": null,
   "metadata": {},
   "outputs": [],
   "source": []
  }
 ],
 "metadata": {
  "kernelspec": {
   "display_name": "Python 3",
   "language": "python",
   "name": "python3"
  },
  "language_info": {
   "codemirror_mode": {
    "name": "ipython",
    "version": 3
   },
   "file_extension": ".py",
   "mimetype": "text/x-python",
   "name": "python",
   "nbconvert_exporter": "python",
   "pygments_lexer": "ipython3",
   "version": "3.7.3"
  }
 },
 "nbformat": 4,
 "nbformat_minor": 2
}
