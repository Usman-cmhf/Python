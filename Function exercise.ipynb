{
 "cells": [
  {
   "cell_type": "code",
   "execution_count": 34,
   "metadata": {},
   "outputs": [],
   "source": [
    "with open ('firstfile.txt',\"w\") as f:\n",
    "    f.write(\"hello PiAIC\")"
   ]
  },
  {
   "cell_type": "code",
   "execution_count": 39,
   "metadata": {},
   "outputs": [],
   "source": [
    "with open (\"new file.txt\", \"w\") as f:\n",
    "    f.write (\"\")"
   ]
  },
  {
   "cell_type": "code",
   "execution_count": 1,
   "metadata": {},
   "outputs": [],
   "source": [
    "def username():\n",
    "    u1 = \"usman\"\n",
    "    u2 = \"usm\"\n",
    "    total = (u1, u2)\n",
    "    print(total)"
   ]
  },
  {
   "cell_type": "code",
   "execution_count": 2,
   "metadata": {},
   "outputs": [
    {
     "name": "stdout",
     "output_type": "stream",
     "text": [
      "('usman', 'usm')\n"
     ]
    }
   ],
   "source": [
    "username ()"
   ]
  },
  {
   "cell_type": "code",
   "execution_count": 13,
   "metadata": {},
   "outputs": [],
   "source": [
    "def username():\n",
    "    u1 = \"usman\"\n",
    "    u2 = \"usm\"\n",
    "    print(u1, u2)"
   ]
  },
  {
   "cell_type": "code",
   "execution_count": 14,
   "metadata": {},
   "outputs": [
    {
     "name": "stdout",
     "output_type": "stream",
     "text": [
      "usman usm\n"
     ]
    }
   ],
   "source": [
    "username ()"
   ]
  },
  {
   "cell_type": "code",
   "execution_count": null,
   "metadata": {},
   "outputs": [],
   "source": []
  },
  {
   "cell_type": "code",
   "execution_count": 9,
   "metadata": {},
   "outputs": [
    {
     "ename": "SyntaxError",
     "evalue": "unexpected EOF while parsing (<ipython-input-9-504f0175d3f2>, line 1)",
     "output_type": "error",
     "traceback": [
      "\u001b[1;36m  File \u001b[1;32m\"<ipython-input-9-504f0175d3f2>\"\u001b[1;36m, line \u001b[1;32m1\u001b[0m\n\u001b[1;33m    def saynameofcouple (hus_name, wif_name):\u001b[0m\n\u001b[1;37m                                             ^\u001b[0m\n\u001b[1;31mSyntaxError\u001b[0m\u001b[1;31m:\u001b[0m unexpected EOF while parsing\n"
     ]
    }
   ],
   "source": [
    "def saynameofcouple (hus_name, wif_name):"
   ]
  },
  {
   "cell_type": "code",
   "execution_count": 7,
   "metadata": {},
   "outputs": [
    {
     "ename": "NameError",
     "evalue": "name 'saynameofcouple' is not defined",
     "output_type": "error",
     "traceback": [
      "\u001b[1;31m---------------------------------------------------------------------------\u001b[0m",
      "\u001b[1;31mNameError\u001b[0m                                 Traceback (most recent call last)",
      "\u001b[1;32m<ipython-input-7-f297ef15378c>\u001b[0m in \u001b[0;36m<module>\u001b[1;34m\u001b[0m\n\u001b[1;32m----> 1\u001b[1;33m \u001b[0msaynameofcouple\u001b[0m \u001b[1;33m(\u001b[0m\u001b[0mhus_name\u001b[0m\u001b[1;33m=\u001b[0m \u001b[1;34m\"usman\"\u001b[0m\u001b[1;33m,\u001b[0m \u001b[0mwif_name\u001b[0m \u001b[1;33m=\u001b[0m \u001b[1;34m\"Ani\"\u001b[0m\u001b[1;33m)\u001b[0m\u001b[1;33m\u001b[0m\u001b[1;33m\u001b[0m\u001b[0m\n\u001b[0m",
      "\u001b[1;31mNameError\u001b[0m: name 'saynameofcouple' is not defined"
     ]
    }
   ],
   "source": [
    "saynameofcouple (hus_name= \"usman\", wif_name = \"Ani\")"
   ]
  },
  {
   "cell_type": "code",
   "execution_count": 6,
   "metadata": {},
   "outputs": [
    {
     "ename": "SyntaxError",
     "evalue": "invalid syntax (<ipython-input-6-3debabff6cae>, line 2)",
     "output_type": "error",
     "traceback": [
      "\u001b[1;36m  File \u001b[1;32m\"<ipython-input-6-3debabff6cae>\"\u001b[1;36m, line \u001b[1;32m2\u001b[0m\n\u001b[1;33m    print(\"The name of couple are \" , hus_name + \"and\" wif_name)\u001b[0m\n\u001b[1;37m                                                              ^\u001b[0m\n\u001b[1;31mSyntaxError\u001b[0m\u001b[1;31m:\u001b[0m invalid syntax\n"
     ]
    }
   ],
   "source": [
    "def saynameofcouple (hus_name, wif_name):\n",
    "    print(\"The name of couple are \" , hus_name + \"and\" wif_name)"
   ]
  },
  {
   "cell_type": "code",
   "execution_count": 15,
   "metadata": {},
   "outputs": [],
   "source": [
    "def say_names_of_couple (husband_name, wife_name): \n",
    "    husband_name=\"Bill\"\n",
    "    wife_name=\"Zelda\"\n",
    "    print(\"The namesss of the couple are \" + husband_name + \" and \" + wife_name)\n"
   ]
  },
  {
   "cell_type": "code",
   "execution_count": 21,
   "metadata": {},
   "outputs": [
    {
     "name": "stdout",
     "output_type": "stream",
     "text": [
      "The namesss of the couple are Bill and Zelda\n"
     ]
    }
   ],
   "source": [
    "say_names_of_couple(husband_name=\"Bill\", wife_name=\"Zelda\") "
   ]
  },
  {
   "cell_type": "code",
   "execution_count": null,
   "metadata": {},
   "outputs": [],
   "source": [
    "def say_names_of_couple (husband_name, wife_name): \n",
    "    husband_name=\"Bill\"\n",
    "    wife_name=\"Zelda\"\n",
    "    print(\"The namesss of the couple are \" + husband_name + \" and \" + wife_name)\n"
   ]
  },
  {
   "cell_type": "code",
   "execution_count": null,
   "metadata": {},
   "outputs": [],
   "source": [
    "say_names_of_couple(husband_name=\"Bill\", wife_name=\"Zelda\") "
   ]
  },
  {
   "cell_type": "code",
   "execution_count": null,
   "metadata": {},
   "outputs": [],
   "source": [
    "def say_names_of_couple (husband_name, wife_name): \n",
    "    husband_name=\"Bill\"\n",
    "    wife_name=\"Zelda\"\n",
    "    print(\"The namesss of the couple are \" + husband_name + \" and \" + wife_name)\n"
   ]
  },
  {
   "cell_type": "code",
   "execution_count": null,
   "metadata": {},
   "outputs": [],
   "source": [
    "total_tax (total_sale = 34.2, tota_tax = 32.8)\n"
   ]
  },
  {
   "cell_type": "code",
   "execution_count": null,
   "metadata": {},
   "outputs": [],
   "source": [
    "def total_tax (total_sale,tota_tax):\n",
    "    \n",
    "    print(total_sale*tota_tax)"
   ]
  },
  {
   "cell_type": "code",
   "execution_count": null,
   "metadata": {},
   "outputs": [],
   "source": [
    "total_tax (6,9)"
   ]
  },
  {
   "cell_type": "code",
   "execution_count": null,
   "metadata": {},
   "outputs": [],
   "source": []
  },
  {
   "cell_type": "code",
   "execution_count": null,
   "metadata": {},
   "outputs": [],
   "source": [
    "def give_sometihing(greeting,first_name ):\n",
    "    print(greeting+ \" \" + first_name)"
   ]
  },
  {
   "cell_type": "code",
   "execution_count": null,
   "metadata": {},
   "outputs": [],
   "source": [
    "give_sometihing (\"Hello there \", first_name = \"A1\")"
   ]
  },
  {
   "cell_type": "code",
   "execution_count": null,
   "metadata": {},
   "outputs": [],
   "source": [
    "def give_sometihing(greeting,first_name,nickname ):\n",
    "    print(greeting+ \" \" + first_name + nickname)"
   ]
  },
  {
   "cell_type": "code",
   "execution_count": null,
   "metadata": {},
   "outputs": [],
   "source": [
    "give_sometihing (\"Hello Usman\" , first_name = \"Oso Or  \", nickname= \"Bin Saeed\")"
   ]
  },
  {
   "cell_type": "code",
   "execution_count": null,
   "metadata": {},
   "outputs": [],
   "source": [
    "def give_sometihing(greeting):\n",
    "    print(greeting)\n"
   ]
  },
  {
   "cell_type": "code",
   "execution_count": null,
   "metadata": {},
   "outputs": [],
   "source": [
    "give_sometihing (\"Hello Usman\")\n"
   ]
  },
  {
   "cell_type": "code",
   "execution_count": null,
   "metadata": {},
   "outputs": [],
   "source": [
    "customers = {\n",
    "    \n",
    "    0: {\"first name\":\"John\",\n",
    "        \"last name\": \"Ogden\", \n",
    "        \"address\": \"301 Arbor Rd.\" },\n",
    "    \n",
    "    1: {\"first name\":\"Ann\", \n",
    "        \"last name\": \"Sattermyer\",\n",
    "        \"address\": \"PO Box 1145\"},\n",
    "    \n",
    "    2: {\"first name\":\"Jill\",\n",
    "        \"last name\": \"Somers\", \n",
    "        \"address\": \"3 Main St.\" },\n",
    "    3: {\"Bld\":\"shumail\",\n",
    "       \"Floor\" : 3,\n",
    "       \"No.\":\"B-17\"}}"
   ]
  },
  {
   "cell_type": "code",
   "execution_count": null,
   "metadata": {},
   "outputs": [],
   "source": [
    "customers "
   ]
  },
  {
   "cell_type": "code",
   "execution_count": null,
   "metadata": {},
   "outputs": [],
   "source": [
    "customers = {\n",
    "    \n",
    "    0: {\"first name\":\"John\",\n",
    "        \"last name\": \"Ogden\", \n",
    "        \"address\": \"301 Arbor Rd.\" },\n",
    "    \n",
    "    1: {\"first name\":\"Ann\", \n",
    "        \"last name\": \"Sattermyer\",\n",
    "        \"address\": \"PO Box 1145\"},\n",
    "    \n",
    "    2: {\"first name\":\"Jill\",\n",
    "        \"last name\": \"Somers\", \n",
    "        \"address\": \"3 Main St.\" },\n",
    "    \n",
    "    3: {\"Blding\":\"shumail\",\n",
    "       \"Floor\" : 3,\n",
    "       \"No.\":\"B-17\"}}"
   ]
  },
  {
   "cell_type": "code",
   "execution_count": null,
   "metadata": {},
   "outputs": [],
   "source": [
    "customers [3]   "
   ]
  },
  {
   "cell_type": "code",
   "execution_count": null,
   "metadata": {},
   "outputs": [],
   "source": [
    "customers [2]"
   ]
  },
  {
   "cell_type": "code",
   "execution_count": null,
   "metadata": {},
   "outputs": [],
   "source": [
    "def find_something(dict, inner_dict, target): \n",
    "    print(dict[inner_dict][target]) "
   ]
  },
  {
   "cell_type": "code",
   "execution_count": null,
   "metadata": {},
   "outputs": [],
   "source": [
    "find_something(customers,2, \"last name\")"
   ]
  },
  {
   "cell_type": "code",
   "execution_count": null,
   "metadata": {},
   "outputs": [],
   "source": [
    "def display_result(winner, score): \n",
    "    print(\"The winner was \" + winner)   \n",
    "    print(\"The score was \" + score)  "
   ]
  },
  {
   "cell_type": "code",
   "execution_count": 2,
   "metadata": {},
   "outputs": [
    {
     "ename": "NameError",
     "evalue": "name 'display_result' is not defined",
     "output_type": "error",
     "traceback": [
      "\u001b[1;31m---------------------------------------------------------------------------\u001b[0m",
      "\u001b[1;31mNameError\u001b[0m                                 Traceback (most recent call last)",
      "\u001b[1;32m<ipython-input-2-c2923d44137c>\u001b[0m in \u001b[0;36m<module>\u001b[1;34m\u001b[0m\n\u001b[1;32m----> 1\u001b[1;33m \u001b[0mdisplay_result\u001b[0m\u001b[1;33m(\u001b[0m\u001b[0mwinner\u001b[0m \u001b[1;33m=\u001b[0m \u001b[1;34m\"Usman\"\u001b[0m \u001b[1;33m,\u001b[0m  \u001b[0mscore\u001b[0m \u001b[1;33m=\u001b[0m\u001b[1;34m\"1-0\"\u001b[0m\u001b[1;33m)\u001b[0m\u001b[1;33m\u001b[0m\u001b[1;33m\u001b[0m\u001b[0m\n\u001b[0m",
      "\u001b[1;31mNameError\u001b[0m: name 'display_result' is not defined"
     ]
    }
   ],
   "source": [
    "display_result(winner = \"Usman\" ,  score =\"1-0\")"
   ]
  },
  {
   "cell_type": "code",
   "execution_count": null,
   "metadata": {},
   "outputs": [],
   "source": [
    "def display_result(winner, score, **other_info): \n",
    "    print(display_result)"
   ]
  },
  {
   "cell_type": "code",
   "execution_count": null,
   "metadata": {},
   "outputs": [],
   "source": [
    "def display_result(winner, score, **other_info): \n",
    "    print(\"The winner was \" + winner)\n",
    "    print(\"The score was \" + score)\n",
    "    for key, value in other_info.items():\n",
    "        print(key + \": \" + value) "
   ]
  },
  {
   "cell_type": "code",
   "execution_count": null,
   "metadata": {},
   "outputs": [],
   "source": [
    "display_result(winner=\"Usman\", score=\"1-0\", overtime =\"yes\", injuries=\"none\", Res= \"Shumail\") "
   ]
  },
  {
   "cell_type": "code",
   "execution_count": null,
   "metadata": {},
   "outputs": [],
   "source": [
    "def display_result(winner, score, **more_unknown_valus): \n",
    "    print(\"The winner was \" + winner)\n",
    "    print(\"The score was \" + score)\n",
    "    for key, value in more_unknown_valus.items():\n",
    "        print(key + \": \" + value) "
   ]
  },
  {
   "cell_type": "code",
   "execution_count": null,
   "metadata": {},
   "outputs": [],
   "source": [
    "display_result(winner=\"Usman\", score=\"1-0\", overtime =\"yes\", injuries=\"none\", Res= \"Shumail\") "
   ]
  },
  {
   "cell_type": "code",
   "execution_count": null,
   "metadata": {},
   "outputs": [],
   "source": [
    "def display_nums(first_num, second_num, *opt_nums): \n",
    "    print(first_num) \n",
    "    print(second_num) \n",
    "    print(opt_nums) "
   ]
  },
  {
   "cell_type": "code",
   "execution_count": null,
   "metadata": {},
   "outputs": [],
   "source": [
    "display_nums(100, 200, 300, 400, 500) "
   ]
  },
  {
   "cell_type": "code",
   "execution_count": null,
   "metadata": {},
   "outputs": [],
   "source": [
    "def calc_tax(sales_total, tax_rate): \n",
    "    tax = sales_total * tax_rate \n",
    "    print(tax) "
   ]
  },
  {
   "cell_type": "code",
   "execution_count": null,
   "metadata": {},
   "outputs": [],
   "source": [
    "calc_tax (sales_total = 25.4, tax_rate= 4.4)"
   ]
  },
  {
   "cell_type": "code",
   "execution_count": null,
   "metadata": {},
   "outputs": [],
   "source": [
    "sales_tax = calc_tax (sales_total= 25.2, tax_rate= .4)\n",
    "print(sales_tax)"
   ]
  },
  {
   "cell_type": "code",
   "execution_count": null,
   "metadata": {},
   "outputs": [],
   "source": [
    "def add_numbers(first_number, second_number):\n",
    "    return first_number + second_number"
   ]
  },
  {
   "cell_type": "raw",
   "metadata": {},
   "source": [
    "def subtract_numbers (first_numer, second_number):\n",
    "return first_numer - second_number"
   ]
  },
  {
   "cell_type": "code",
   "execution_count": null,
   "metadata": {},
   "outputs": [],
   "source": [
    "result_of_adding = add_numbers(1, 2) \n",
    "result_of_subtracting = subtract_numbers(3, 2) \n",
    "sum_of_results = result_of_adding + result_of_subtracting "
   ]
  },
  {
   "cell_type": "code",
   "execution_count": null,
   "metadata": {},
   "outputs": [],
   "source": [
    "what_to_say = \"Hi\""
   ]
  },
  {
   "cell_type": "code",
   "execution_count": null,
   "metadata": {},
   "outputs": [],
   "source": [
    "def say_something ():\n",
    "    what_to_say = \"Hi\"\n",
    "    print(what_to_say)"
   ]
  },
  {
   "cell_type": "code",
   "execution_count": null,
   "metadata": {},
   "outputs": [],
   "source": [
    "say_something ()"
   ]
  },
  {
   "cell_type": "code",
   "execution_count": null,
   "metadata": {},
   "outputs": [],
   "source": [
    "def whatever(b, c): \n",
    "    total = b + c\n",
    "    \n",
    "    print(b)\n",
    "    \n",
    "    print(c)\n",
    "    \n",
    "    print(total)"
   ]
  },
  {
   "cell_type": "code",
   "execution_count": null,
   "metadata": {},
   "outputs": [],
   "source": [
    "def whatever(b, c): \n",
    "    total = b + c\n",
    "    print(b) \n",
    "    print(c) \n",
    "    print(total) "
   ]
  },
  {
   "cell_type": "code",
   "execution_count": null,
   "metadata": {},
   "outputs": [],
   "source": [
    "whatever(b = 15 , c  = 12)"
   ]
  },
  {
   "cell_type": "code",
   "execution_count": null,
   "metadata": {},
   "outputs": [],
   "source": [
    "a = 2"
   ]
  },
  {
   "cell_type": "code",
   "execution_count": null,
   "metadata": {},
   "outputs": [],
   "source": [
    "def display_number ():\n",
    "    print (a)"
   ]
  },
  {
   "cell_type": "code",
   "execution_count": null,
   "metadata": {},
   "outputs": [],
   "source": [
    "a"
   ]
  },
  {
   "cell_type": "code",
   "execution_count": null,
   "metadata": {},
   "outputs": [],
   "source": [
    "usman = \"Usman Stenographer BS-14, Govt of Sindh\""
   ]
  },
  {
   "cell_type": "code",
   "execution_count": null,
   "metadata": {},
   "outputs": [],
   "source": [
    "def display_name():\n",
    "    print(usman)"
   ]
  },
  {
   "cell_type": "code",
   "execution_count": null,
   "metadata": {},
   "outputs": [],
   "source": [
    "usman"
   ]
  },
  {
   "cell_type": "code",
   "execution_count": null,
   "metadata": {},
   "outputs": [],
   "source": [
    "def whatever(): \n",
    "    y = 2\n",
    "    print(y) "
   ]
  },
  {
   "cell_type": "code",
   "execution_count": null,
   "metadata": {},
   "outputs": [],
   "source": [
    "y"
   ]
  },
  {
   "cell_type": "code",
   "execution_count": 3,
   "metadata": {},
   "outputs": [],
   "source": [
    "cleanest_cities = [\"Washington\", \"London\", \"Paris\", \"Tokyo\", \"Karachi\", \"Funny i.e Karachi\"]"
   ]
  },
  {
   "cell_type": "code",
   "execution_count": 7,
   "metadata": {},
   "outputs": [
    {
     "name": "stdout",
     "output_type": "stream",
     "text": [
      "Enter the name of City Lahore\n"
     ]
    }
   ],
   "source": [
    "# FOR LOOP Exersis\n",
    "\n",
    "city_to_check = input(\"Enter the name of City \")\n",
    "for a_clean_city in cleanest_cities :\n",
    "    if city_to_check == a_clean_city :\n",
    "        print(\"It is one of the Cleanest city \")"
   ]
  },
  {
   "cell_type": "code",
   "execution_count": 8,
   "metadata": {},
   "outputs": [
    {
     "name": "stdout",
     "output_type": "stream",
     "text": [
      "Enter a city , or q to quite :lOOP\n",
      "Enter a city , or q to quite :Q\n",
      "Enter a city , or q to quite :q\n"
     ]
    }
   ],
   "source": [
    "# FOR WHILE LOOP EXERCISE\n",
    "user_input = \"\"\n",
    "while user_input != \"q\":\n",
    "    user_input = input (\"Enter a city , or q to quite :\")\n",
    "    if user_input != \"q\":\n",
    "        for a_clean_city in cleanest_cities:\n",
    "            if user_input == a_clean_city:\n",
    "                print(\"it is on of the clen city\")"
   ]
  },
  {
   "cell_type": "code",
   "execution_count": 19,
   "metadata": {},
   "outputs": [
    {
     "name": "stdout",
     "output_type": "stream",
     "text": [
      "Enter a city, or q to quit:Karachi\n",
      "It's one of the cleanest cities\n"
     ]
    }
   ],
   "source": [
    "keep_looping = True \n",
    "while keep_looping == True: \n",
    "    user_input = input(\"Enter a city, or q to quit:\") \n",
    "    if user_input != \"q\": \n",
    "        for a_clean_city in cleanest_cities: \n",
    "            if user_input == a_clean_city: \n",
    "                print(\"It's one of the cleanest cities\") \n",
    "                break \n",
    "            else: \n",
    "                    keep_looping = False"
   ]
  },
  {
   "cell_type": "code",
   "execution_count": null,
   "metadata": {},
   "outputs": [],
   "source": [
    "class Patient ():\n",
    "    def__init__(self, last_name):"
   ]
  },
  {
   "cell_type": "code",
   "execution_count": 2,
   "metadata": {},
   "outputs": [],
   "source": [
    "class Patient(): \n",
    "    def __init__(self, last_name):\n",
    "        self.last_name = last_name "
   ]
  },
  {
   "cell_type": "code",
   "execution_count": 12,
   "metadata": {},
   "outputs": [],
   "source": [
    "class Patient(): \n",
    "    def __init__(self, last_name, first_name, age):\n",
    "        self.last_name = last_name \n",
    "        self.first_name = first_name\n",
    "        self.age = age"
   ]
  },
  {
   "cell_type": "code",
   "execution_count": 16,
   "metadata": {},
   "outputs": [],
   "source": [
    " class Patient(): \n",
    "        def __init__(self, last_name, first_name, age): \n",
    "            self.last_name = last_name \n",
    "            self.first_name = first_name \n",
    "            self.age = age \n",
    "            def say_if_minor(self): \n",
    "                if self.age < 21: \n",
    "                    print(self.first_name + \" \" + self.last_name + \" is a minor\") "
   ]
  },
  {
   "cell_type": "code",
   "execution_count": 31,
   "metadata": {},
   "outputs": [],
   "source": [
    "with open (\"note.txt\", \"w\") as f :\n",
    "    f.write(\"Samsunx Glaxy\")"
   ]
  },
  {
   "cell_type": "code",
   "execution_count": 16,
   "metadata": {},
   "outputs": [],
   "source": [
    "with open (\"greet.txt\", \"w\") as f :\n",
    "    f.write (\"Hello World\")"
   ]
  },
  {
   "cell_type": "code",
   "execution_count": 7,
   "metadata": {},
   "outputs": [],
   "source": [
    "with open (\"file.doc\", \"w\") as f:\n",
    "    f.write (\"Usman 123 \")"
   ]
  },
  {
   "cell_type": "code",
   "execution_count": 8,
   "metadata": {},
   "outputs": [],
   "source": [
    "adress = \"Karachi East\"\n",
    "with open (\"address.txt\", \"w\") as f:\n",
    "    f.write(adress)"
   ]
  },
  {
   "cell_type": "code",
   "execution_count": 19,
   "metadata": {},
   "outputs": [
    {
     "name": "stdout",
     "output_type": "stream",
     "text": [
      "Hello World\n"
     ]
    }
   ],
   "source": [
    "with open (\"greet.txt\", \"r\") as f:\n",
    "    txt_of_file = f.read ()\n",
    "    print(txt_of_file)"
   ]
  },
  {
   "cell_type": "code",
   "execution_count": 21,
   "metadata": {},
   "outputs": [
    {
     "name": "stdout",
     "output_type": "stream",
     "text": [
      "Karachi East\n",
      "\n",
      "Lyari\n",
      "\n",
      "Keemari\n",
      "\n",
      "South\n",
      "\n",
      "West\n",
      "\n",
      "Ameria\n"
     ]
    }
   ],
   "source": [
    "with open (\"address.txt\", \"r\") as f:\n",
    "    adr = f.read()\n",
    "    print(adr)"
   ]
  },
  {
   "cell_type": "code",
   "execution_count": 22,
   "metadata": {},
   "outputs": [],
   "source": [
    "with open (\"greet.txt\", \"a\") as f:\n",
    "    f.write(\"\\nHave a Nice Day \")\n",
    "# \"\\N\"   \"YE NAI LINE KE LEA ISTEMAL HOTA HE\""
   ]
  },
  {
   "cell_type": "code",
   "execution_count": 28,
   "metadata": {},
   "outputs": [
    {
     "name": "stdout",
     "output_type": "stream",
     "text": [
      "Hello World\n",
      "Have a Nice Day \n",
      "Bohat Achi Practice\n"
     ]
    }
   ],
   "source": [
    "with open (\"greet.txt\", \"r\") as f:\n",
    "    adr1 = f.read()\n",
    "    print(adr1)\n",
    "# FOR READING YA DISPLAY PRINT IN ALREADY CREATED FILE    PRACTICE AS ABOVE"
   ]
  },
  {
   "cell_type": "code",
   "execution_count": 27,
   "metadata": {},
   "outputs": [],
   "source": [
    "with open (\"Newfile.txt\", \"w\")as f:\n",
    "    f.write(\"Kuch bhi Likh Do\")\n",
    "# FOR CREATING A NEW FILE PRACTICE AS ABOVE"
   ]
  },
  {
   "cell_type": "code",
   "execution_count": 32,
   "metadata": {},
   "outputs": [],
   "source": [
    "import csv"
   ]
  },
  {
   "cell_type": "code",
   "execution_count": 33,
   "metadata": {},
   "outputs": [
    {
     "ename": "NameError",
     "evalue": "name 'competitions' is not defined",
     "output_type": "error",
     "traceback": [
      "\u001b[1;31m---------------------------------------------------------------------------\u001b[0m",
      "\u001b[1;31mNameError\u001b[0m                                 Traceback (most recent call last)",
      "\u001b[1;32m<ipython-input-33-d79cf640d8f0>\u001b[0m in \u001b[0;36m<module>\u001b[1;34m\u001b[0m\n\u001b[1;32m----> 1\u001b[1;33m \u001b[0mcompetitions\u001b[0m\u001b[1;33m.\u001b[0m\u001b[0mcsv\u001b[0m\u001b[1;33m\u001b[0m\u001b[1;33m\u001b[0m\u001b[0m\n\u001b[0m",
      "\u001b[1;31mNameError\u001b[0m: name 'competitions' is not defined"
     ]
    }
   ],
   "source": [
    "competitions.csv"
   ]
  },
  {
   "cell_type": "code",
   "execution_count": null,
   "metadata": {},
   "outputs": [],
   "source": [
    "result_of_adding = add_numbers(1, 2) \n",
    "result_of_subtracting = subtract_numbers(3, 2) \n",
    "sum_of_results = result_of_adding + result_of_subtracting "
   ]
  },
  {
   "cell_type": "code",
   "execution_count": null,
   "metadata": {},
   "outputs": [],
   "source": []
  },
  {
   "cell_type": "code",
   "execution_count": 20,
   "metadata": {},
   "outputs": [],
   "source": [
    "def greeting (greeting, usergreet):\n",
    "    print(greeting)"
   ]
  },
  {
   "cell_type": "code",
   "execution_count": 21,
   "metadata": {},
   "outputs": [
    {
     "name": "stdout",
     "output_type": "stream",
     "text": [
      " Hullo Usman\n"
     ]
    }
   ],
   "source": [
    "greeting (greeting= \" Hullo Usman\" , usergreet = \"aedPlz input Greet\")"
   ]
  },
  {
   "cell_type": "code",
   "execution_count": 22,
   "metadata": {},
   "outputs": [
    {
     "name": "stdout",
     "output_type": "stream",
     "text": [
      "usman\n"
     ]
    }
   ],
   "source": [
    "sales_tax = \"usman\"\n",
    "print(sales_tax)"
   ]
  },
  {
   "cell_type": "raw",
   "metadata": {},
   "source": [
    "def subtract_numbers (first_number, second_number):\n",
    "\n",
    "return first_number - second number "
   ]
  },
  {
   "cell_type": "code",
   "execution_count": 23,
   "metadata": {},
   "outputs": [
    {
     "ename": "NameError",
     "evalue": "name 'calc_tax' is not defined",
     "output_type": "error",
     "traceback": [
      "\u001b[1;31m---------------------------------------------------------------------------\u001b[0m",
      "\u001b[1;31mNameError\u001b[0m                                 Traceback (most recent call last)",
      "\u001b[1;32m<ipython-input-23-09103184ca83>\u001b[0m in \u001b[0;36m<module>\u001b[1;34m\u001b[0m\n\u001b[1;32m----> 1\u001b[1;33m \u001b[0msales_tax\u001b[0m \u001b[1;33m=\u001b[0m \u001b[0mcalc_tax\u001b[0m \u001b[1;33m(\u001b[0m\u001b[0msales_total\u001b[0m\u001b[1;33m=\u001b[0m \u001b[1;36m25.2\u001b[0m\u001b[1;33m,\u001b[0m \u001b[0mtax_rate\u001b[0m\u001b[1;33m=\u001b[0m \u001b[1;36m.4\u001b[0m\u001b[1;33m)\u001b[0m\u001b[1;33m\u001b[0m\u001b[1;33m\u001b[0m\u001b[0m\n\u001b[0m\u001b[0;32m      2\u001b[0m \u001b[0mprint\u001b[0m\u001b[1;33m(\u001b[0m\u001b[0msales_tax\u001b[0m\u001b[1;33m)\u001b[0m\u001b[1;33m\u001b[0m\u001b[1;33m\u001b[0m\u001b[0m\n",
      "\u001b[1;31mNameError\u001b[0m: name 'calc_tax' is not defined"
     ]
    }
   ],
   "source": [
    "sales_tax = calc_tax (sales_total= 25.2, tax_rate= .4)\n",
    "print(sales_tax)"
   ]
  },
  {
   "cell_type": "code",
   "execution_count": null,
   "metadata": {},
   "outputs": [],
   "source": []
  },
  {
   "cell_type": "code",
   "execution_count": null,
   "metadata": {},
   "outputs": [],
   "source": []
  },
  {
   "cell_type": "code",
   "execution_count": null,
   "metadata": {},
   "outputs": [],
   "source": []
  },
  {
   "cell_type": "code",
   "execution_count": null,
   "metadata": {},
   "outputs": [],
   "source": []
  },
  {
   "cell_type": "code",
   "execution_count": null,
   "metadata": {},
   "outputs": [],
   "source": []
  },
  {
   "cell_type": "code",
   "execution_count": null,
   "metadata": {},
   "outputs": [],
   "source": [
    "def addnum (34, 33) :"
   ]
  },
  {
   "cell_type": "code",
   "execution_count": null,
   "metadata": {},
   "outputs": [],
   "source": []
  },
  {
   "cell_type": "code",
   "execution_count": null,
   "metadata": {},
   "outputs": [],
   "source": []
  },
  {
   "cell_type": "code",
   "execution_count": null,
   "metadata": {},
   "outputs": [],
   "source": []
  },
  {
   "cell_type": "code",
   "execution_count": null,
   "metadata": {},
   "outputs": [],
   "source": [
    "with open('firstfile.txt', 'a') as f:\n",
    "    f.write(\"Muhammad Usman \\n AIC010\\n Gulshan e Iqbal Branch\")"
   ]
  },
  {
   "cell_type": "code",
   "execution_count": null,
   "metadata": {},
   "outputs": [],
   "source": [
    "with open('firstfile.txt', 'r') as f:\n",
    "    text_of_file = f.read()\n",
    "    print(text_of_file)"
   ]
  },
  {
   "cell_type": "code",
   "execution_count": null,
   "metadata": {},
   "outputs": [],
   "source": [
    "with open('secondfile.csv',\"w\") as f:\n",
    "    for i in range(5):\n",
    "        name=input(\"Enter Your Name: \")\n",
    "        age=input(\"enter your age: \")\n",
    "        Cgpa=input(\"Enter your Cgpa:\")\n",
    "        f.write (name+\",\"+age+\",\"+Cgpa+\"\\n\")\n"
   ]
  },
  {
   "cell_type": "code",
   "execution_count": null,
   "metadata": {},
   "outputs": [],
   "source": [
    "with open ('secondfile.csv',\"r\") as f:\n",
    "    lines = f.readlines()\n",
    "    for l in lines:\n",
    "        print(l)"
   ]
  },
  {
   "cell_type": "code",
   "execution_count": null,
   "metadata": {},
   "outputs": [],
   "source": [
    "with open ('secondfile.csv',\"r\") as f:\n",
    "    lines = f.readlines()\n",
    "    for l in lines:\n",
    "        name=l.split(',')\n",
    "        age=int(k[1])\n",
    "        if age>=18:\n",
    "            print(f)\n",
    "        print(l)"
   ]
  },
  {
   "cell_type": "code",
   "execution_count": null,
   "metadata": {},
   "outputs": [],
   "source": [
    "import csv"
   ]
  },
  {
   "cell_type": "code",
   "execution_count": null,
   "metadata": {},
   "outputs": [],
   "source": [
    "with open('secondfile.csv',\"r\") as f:\n",
    "    text_file=csv.reader(f)\\\n",
    "    for i in text_file:\n",
    "        print(l)\n"
   ]
  },
  {
   "cell_type": "code",
   "execution_count": null,
   "metadata": {},
   "outputs": [],
   "source": [
    "with open ('secondfile.csv', \"r\")as f:\n",
    "    for l in lines:\n",
    "        Country =input(\"Enter Your Team : \")\n",
    "        Points=input(\"enter Points: \")\n",
    "        win=input(\"win %:\")\n",
    "        f.write (Country+\",\"+points+\",\"+win+\"\\n\")\n",
    "\n",
    "    \n",
    "    "
   ]
  },
  {
   "cell_type": "code",
   "execution_count": null,
   "metadata": {},
   "outputs": [],
   "source": [
    "with open ('secondfile.csv', \"r\")as f:\n",
    "    for l in lines:\n",
    "        Countries =(\"Pakistan, India, England, N.land, W.indies, Bangladesh : \")\n",
    "        Points=input(\"enter Points: \")\n",
    "        win=input(\"win %:\")\n",
    "        f.write (Country+\",\"+points+\",\"+win+\"\\n\")\n"
   ]
  },
  {
   "cell_type": "code",
   "execution_count": null,
   "metadata": {},
   "outputs": [],
   "source": [
    "with open('secondfile.csv',\"w\",newline=\"\") as f:\n",
    "    usman2=csv.writer(f,delimiter=\"\\t\")\n",
    "    usman2.writerow([\"India\", 10,16])\n",
    "    usman2.writerow([\"England\", 10,8])\n",
    "    usman2.writerow([\"Pakistan\", 10,14])\n",
    "    usman2.writerow([\"Bangladesh\", 10,16])\n",
    "    usman2.writerow([\"Afg\", 10,16])\n",
    "    usman2.writerow([\"N.land\", 10,10])"
   ]
  },
  {
   "cell_type": "code",
   "execution_count": null,
   "metadata": {},
   "outputs": [],
   "source": [
    "with open('secondfile.csv', \"r\") as f:\n",
    "    usman2=csv.reader(f,delimiter='\\t')\n",
    "    for k in usman2:\n",
    "        points=int(k[2])\n",
    "        if points>=12:\n",
    "            print(f\"{k[0]} is in semifinal\")\n",
    "        else:\n",
    "            print(f\"{k[0]} is not in semifinal\")"
   ]
  },
  {
   "cell_type": "code",
   "execution_count": null,
   "metadata": {},
   "outputs": [],
   "source": [
    "dic.keys"
   ]
  },
  {
   "cell_type": "code",
   "execution_count": null,
   "metadata": {},
   "outputs": [],
   "source": [
    " dict ['a':1, 'a':2, 'c':3]"
   ]
  },
  {
   "cell_type": "code",
   "execution_count": null,
   "metadata": {},
   "outputs": [],
   "source": [
    "class student:\n",
    "    def _init_(self, std_id, std_name):\n",
    "        self.student_id = std_id\n",
    "        self.student_name = std_name\n",
    "    def printdetails(self):\n",
    "        print(\"ID = \", self.student_id)\n",
    "        print(\"Name = \" , self.student_name)\n",
    "        \n",
    "student1 = self.student_id(1,\"usman\")\n",
    "student2 = self.student_name(2,\"umair\")"
   ]
  },
  {
   "cell_type": "code",
   "execution_count": null,
   "metadata": {},
   "outputs": [],
   "source": [
    "student2.printdetails()"
   ]
  },
  {
   "cell_type": "code",
   "execution_count": null,
   "metadata": {},
   "outputs": [],
   "source": [
    "import json"
   ]
  },
  {
   "cell_type": "code",
   "execution_count": null,
   "metadata": {},
   "outputs": [],
   "source": [
    "customer_23 ={\n",
    "    \"Name \" : \"Usman\",\n",
    "    \"Total bill\" : 200,\n",
    "}\n",
    "with open(\"customerfile.json\", \"w\") as f:\n",
    "    json.dump(customer_23,f)"
   ]
  },
  {
   "cell_type": "code",
   "execution_count": null,
   "metadata": {},
   "outputs": [],
   "source": []
  },
  {
   "cell_type": "code",
   "execution_count": null,
   "metadata": {},
   "outputs": [],
   "source": [
    "\n",
    "# to creat a file\n",
    "with open ('kafsf.txt', 'x') as f:\n",
    "    f.write('Hellod')"
   ]
  },
  {
   "cell_type": "code",
   "execution_count": null,
   "metadata": {},
   "outputs": [],
   "source": [
    "\n",
    "# to creat a file\n",
    "with open ('kafsf.txt', 'x') as f:\n",
    "    f.write('Hellod')"
   ]
  },
  {
   "cell_type": "code",
   "execution_count": null,
   "metadata": {},
   "outputs": [],
   "source": [
    "import random as r\n",
    "x = r.random()\n",
    "x"
   ]
  },
  {
   "cell_type": "code",
   "execution_count": null,
   "metadata": {},
   "outputs": [],
   "source": [
    "import random as r\n",
    "x = r.random()\n",
    "x"
   ]
  },
  {
   "cell_type": "code",
   "execution_count": null,
   "metadata": {},
   "outputs": [],
   "source": [
    "items = [1,2,3,4,5,6,7,8,9,0]\n",
    "r.shuffle(items) # for shuffle a list\n",
    "print(items)"
   ]
  },
  {
   "cell_type": "code",
   "execution_count": null,
   "metadata": {},
   "outputs": [],
   "source": [
    "x = r.sample (items, 4)\n",
    "print(x)"
   ]
  },
  {
   "cell_type": "code",
   "execution_count": null,
   "metadata": {},
   "outputs": [],
   "source": [
    "import math as m"
   ]
  },
  {
   "cell_type": "code",
   "execution_count": null,
   "metadata": {},
   "outputs": [],
   "source": []
  },
  {
   "cell_type": "markdown",
   "metadata": {},
   "source": [
    "m.sqrt(16)"
   ]
  },
  {
   "cell_type": "code",
   "execution_count": null,
   "metadata": {},
   "outputs": [],
   "source": [
    "m.sqrt(16)"
   ]
  },
  {
   "cell_type": "code",
   "execution_count": null,
   "metadata": {},
   "outputs": [],
   "source": [
    "import sys"
   ]
  },
  {
   "cell_type": "code",
   "execution_count": null,
   "metadata": {},
   "outputs": [],
   "source": [
    "sys.version"
   ]
  },
  {
   "cell_type": "code",
   "execution_count": null,
   "metadata": {},
   "outputs": [],
   "source": [
    "sys.argv\n"
   ]
  },
  {
   "cell_type": "code",
   "execution_count": null,
   "metadata": {},
   "outputs": [],
   "source": [
    "with open ('xyz.txt', 'w') as f:\n",
    "    temp = sys.stdout\n",
    "    sys.stdout = f\n",
    "    print('hello world')\n",
    "    sys.stdout=temp"
   ]
  },
  {
   "cell_type": "code",
   "execution_count": null,
   "metadata": {},
   "outputs": [],
   "source": [
    "with open ('xyz.txt', 'w') as f:\n",
    "    temp = sys.stdout\n",
    "    sys.stdout = f\n",
    "    print('hello world')\n",
    "    sys.stdout=temp"
   ]
  },
  {
   "cell_type": "code",
   "execution_count": null,
   "metadata": {},
   "outputs": [],
   "source": []
  },
  {
   "cell_type": "code",
   "execution_count": null,
   "metadata": {},
   "outputs": [],
   "source": []
  },
  {
   "cell_type": "code",
   "execution_count": null,
   "metadata": {},
   "outputs": [],
   "source": []
  },
  {
   "cell_type": "code",
   "execution_count": null,
   "metadata": {},
   "outputs": [],
   "source": []
  },
  {
   "cell_type": "code",
   "execution_count": null,
   "metadata": {},
   "outputs": [],
   "source": []
  },
  {
   "cell_type": "code",
   "execution_count": null,
   "metadata": {},
   "outputs": [],
   "source": [
    "sys.path"
   ]
  },
  {
   "cell_type": "code",
   "execution_count": null,
   "metadata": {},
   "outputs": [],
   "source": [
    "sys.platform\n"
   ]
  },
  {
   "cell_type": "code",
   "execution_count": null,
   "metadata": {},
   "outputs": [],
   "source": [
    "23\n",
    "323### sys."
   ]
  }
 ],
 "metadata": {
  "kernelspec": {
   "display_name": "Python 3",
   "language": "python",
   "name": "python3"
  },
  "language_info": {
   "codemirror_mode": {
    "name": "ipython",
    "version": 3
   },
   "file_extension": ".py",
   "mimetype": "text/x-python",
   "name": "python",
   "nbconvert_exporter": "python",
   "pygments_lexer": "ipython3",
   "version": "3.7.3"
  }
 },
 "nbformat": 4,
 "nbformat_minor": 2
}
